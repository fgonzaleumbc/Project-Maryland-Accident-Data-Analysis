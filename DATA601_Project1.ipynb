{
 "cells": [
  {
   "cell_type": "markdown",
   "metadata": {
    "id": "Nt2eGmdOKCmL"
   },
   "source": [
    "## DATA 601 Project-1\n",
    "### Deadline: April 8, 2024, 23:59pm"
   ]
  },
  {
   "cell_type": "markdown",
   "metadata": {},
   "source": [
    "### Instructions\n",
    "The input_data folder has various csv files related to MD crash data, weather data, total drivers by state and state names.\n",
    "\n",
    "- MD_Crash_report files are vehicle crash report data obtained from for https://opendata.maryland.gov. These include four data tables on accident crash reports, driver (person) data, emergency medical services (EMS) data, and vehicle data. All tables have a common ID feature called \"Report Number\". The data includes the following years and quarters:\n",
    "    - [CY2017Q1](https://opendata.maryland.gov/Public-Safety/Maryland-Statewide-Vehicle-Crashes-CY2017-Quarter-/9886-wded) \n",
    "    - [CY2017Q2](https://opendata.maryland.gov/Public-Safety/Maryland-Statewide-Vehicle-Crashes-CY2017-Quarter-/wnvu-hisq)\n",
    "    - [CY2017Q3](https://opendata.maryland.gov/Public-Safety/Maryland-Statewide-Vehicle-Crashes-CY2017-Quarter-/m6zc-qj6d)\n",
    "    - [CY2017Q4](https://opendata.maryland.gov/Public-Safety/Maryland-Statewide-Vehicle-Crashes-CY2017-Quarter-/9tum-d4as)\n",
    "- States_drivers.csv includes data on total drivers by state.\n",
    "- States.json includes the state name and abbreviations in case it is needed.\n",
    "\n",
    "Other documentation:\n",
    "- Sample __State of Maryland Vehicle Accident Report__ is included in the file \"maryland_accident_report.pdf\" (source: https://www.nhtsa.gov/sites/nhtsa.gov/files/documents/maryland_0.pdf). This report has several codes that can be used to explain codes in the data.\n",
    "- The __Maryland Cross Reference Document__ is included in the file \"maryland_cross_reference_document.pdf\" (source: https://www.nhtsa.gov/sites/nhtsa.gov/files/documents/maryland_cross_reference.pdf). This document may also provide some more details in the codes in the data.\n",
    "- The __maryland county codes__ is included in the file \"MD_County_Codes.pdf\" (source: https://mde.maryland.gov/programs/Land/Documents/LeadFactSheets/LeadfsCountyCodes.pdf)\n",
    "\n",
    "<br>\n",
    "Document any assumptions that you do as part of a comment or a markdown cell were appropriate. Note that you may change the format of the project as long as the questions are answered."
   ]
  },
  {
   "cell_type": "markdown",
   "metadata": {
    "id": "2Cm77Wu6KCmN"
   },
   "source": [
    "### Question 1 (15 points)\n",
    "\n",
    "Review the questions below to familiarize yourself with the task. After reviewing the questions review the data files of the MD_Crash_Reports of the project and determine if it is worth merging/concatenation/joining and document your reasoning on merging or not merging the crash datafiles that will be used. Question 1 and 2 may be combined for purposes of organizing the Project 1 Jupyter Notebook."
   ]
  },
  {
   "cell_type": "markdown",
   "metadata": {},
   "source": [
    "### Question 2 (15 points)\n",
    "Use the .info(), .describe(), .hist() and sns.pairplot() functions to explore the data. Comment on any observations and identify any features that may be worth plotting and evaluating in more detail. (Note that the last question requires to develop a visualization)."
   ]
  },
  {
   "cell_type": "markdown",
   "metadata": {},
   "source": [
    "### Question 3 (15 points)\n",
    "Clean the data as you seem necessary. For example, evaluate remove null or duplicate values. Note there may be features where it may be appropriate to have values that are null or duplicated values. Document your reasoning."
   ]
  },
  {
   "cell_type": "markdown",
   "metadata": {
    "id": "7akHII8bKCmO"
   },
   "source": [
    "### Question 4 (15 points)\n",
    "a. For each county, determine the average speed of accidents involving bicyclists. (Note: Take a look at the Sample Maryland Crash Report. Report provides a map of the codes including those involving other bicyclists.) <br>\n",
    "b. Sort the list the sorted by average speed."
   ]
  },
  {
   "cell_type": "markdown",
   "metadata": {
    "id": "Yh9NLokhKCmO"
   },
   "source": [
    "### Question 5 (15 points)\n",
    "a. Determine the total number of crashes per \"vehicle make\". Sort the results in alphabetical order by vehicle make (e.g. Chevrolet, Ford, Honda, etc.). <br>\n",
    "b. Determine average age of the car involved in these accidents for each \"vehicle make\"."
   ]
  },
  {
   "cell_type": "markdown",
   "metadata": {
    "id": "33AowxTGKCmP"
   },
   "source": [
    "### Question 6 (15 points)\n",
    "a. Determine all the accidents that happened in a circle centered at (39.197753, -77.263303) with a radius of 5 km.<br>\n",
    "b. Determine the number of accidents where the speed limit was above 51 miles per hour within the 5 km circle. <br>\n",
    "c. Determine the number of accidents where the speed limit was below 41 miles per hour within the 5 km circle.  <br>\n",
    "<br>\n",
    "Hint: Please see the \"P1_Helper_Distance_From_Coordinates.ipynb\" that can be found in the Project1 folder."
   ]
  },
  {
   "cell_type": "markdown",
   "metadata": {
    "id": "jb7JLx1YKCmP"
   },
   "source": [
    "### Question 7 (15 points)\n",
    "\n",
    "Determine the number of drivers, who got in a car crash, from non-DMV states and list them by total drivers, female and male. Consollidate the final values in one dataframe. <br>\n",
    "`St | Drivers | Female | Male ` <br>\n",
    "`NY | 151034  | 101000 | 50034` <br>\n",
    "`PA | 125131  | 105000 | 20131` <br>\n",
    "...\n",
    "\n",
    "\n",
    "b. Use the states drivers data from the states_drivers.csv to normalize the previous list with number of total drivers for each state. For example, there are 12 million drivers in NY, then the normalized numbers should be:\n",
    "<br>\n",
    "`St |  Drivers  | Normalized` <br>\n",
    "`NY |  151034   | 1.26E-5   ` <br>\n",
    "`PA |  125131   |....       ` <br>\n",
    "..."
   ]
  },
  {
   "cell_type": "markdown",
   "metadata": {
    "id": "ZP0MT6tyKCmQ"
   },
   "source": [
    "### Question 8 (15 points)\n",
    "a. On which day of the week (Monday through Sunday) do the most of the crashes happen? <br>\n",
    "b. On which hour of the day (00 - 24) do the most of the crashes happen?"
   ]
  },
  {
   "cell_type": "markdown",
   "metadata": {
    "id": "T4w7e3vLKCmQ"
   },
   "source": [
    "### Question 9 (15 points)\n",
    "a. What is the number of accidents that happened on rainy and clear/cloudy days?\n",
    "b. What is the ration of the number of accidents that happened on rainy days to the number of accidents happened on clear/cloudy days? \n",
    "c. Calculate the number of fatal accidents that occur by each light condition.\n",
    "\n",
    "What does these statistics tell us?"
   ]
  },
  {
   "cell_type": "markdown",
   "metadata": {
    "id": "HkVa5g4dMRO9"
   },
   "source": [
    "### Question 10 (10 points)\n",
    "Use matplotlib and/or seaborn and show your talent in data visualization. You are free to visualize anything you want regarding this dataset."
   ]
  },
  {
   "cell_type": "markdown",
   "metadata": {},
   "source": [
    "# NOTEBOOK END"
   ]
  },
  {
   "cell_type": "code",
   "execution_count": null,
   "metadata": {},
   "outputs": [],
   "source": []
  },
  {
   "cell_type": "code",
   "execution_count": null,
   "metadata": {},
   "outputs": [],
   "source": []
  },
  {
   "cell_type": "code",
   "execution_count": null,
   "metadata": {
    "id": "A_H1rO_6KCmR"
   },
   "outputs": [],
   "source": []
  }
 ],
 "metadata": {
  "colab": {
   "include_colab_link": true,
   "name": "DATA601_Project1.ipynb",
   "provenance": []
  },
  "kernelspec": {
   "display_name": "Python 3 (ipykernel)",
   "language": "python",
   "name": "python3"
  },
  "language_info": {
   "codemirror_mode": {
    "name": "ipython",
    "version": 3
   },
   "file_extension": ".py",
   "mimetype": "text/x-python",
   "name": "python",
   "nbconvert_exporter": "python",
   "pygments_lexer": "ipython3",
   "version": "3.11.5"
  }
 },
 "nbformat": 4,
 "nbformat_minor": 1
}
